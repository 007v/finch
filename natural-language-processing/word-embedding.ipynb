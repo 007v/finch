{
 "cells": [
  {
   "cell_type": "markdown",
   "metadata": {},
   "source": [
    "## Character Embedding\n",
    "#### Chars"
   ]
  },
  {
   "cell_type": "code",
   "execution_count": 1,
   "metadata": {
    "collapsed": false
   },
   "outputs": [
    {
     "name": "stdout",
     "output_type": "stream",
     "text": [
      "['i', ' ', 'a', 'm', ' ', 'w', 'h', 'a', 't', ' ', 'i', ' ', 'a', 'm']\n"
     ]
    }
   ],
   "source": [
    "characters=list('i am what i am')\n",
    "print(characters)"
   ]
  },
  {
   "cell_type": "markdown",
   "metadata": {},
   "source": [
    "#### Step 1"
   ]
  },
  {
   "cell_type": "code",
   "execution_count": 2,
   "metadata": {
    "collapsed": false
   },
   "outputs": [
    {
     "name": "stdout",
     "output_type": "stream",
     "text": [
      "Counter({' ': 4, 'a': 3, 'm': 2, 'i': 2, 't': 1, 'h': 1, 'w': 1})\n"
     ]
    }
   ],
   "source": [
    "import collections\n",
    "character_counts = collections.Counter(characters)\n",
    "print(character_counts)"
   ]
  },
  {
   "cell_type": "markdown",
   "metadata": {},
   "source": [
    "#### Step 2"
   ]
  },
  {
   "cell_type": "code",
   "execution_count": 3,
   "metadata": {
    "collapsed": false
   },
   "outputs": [
    {
     "name": "stdout",
     "output_type": "stream",
     "text": [
      "dict_keys(['t', 'm', 'h', 'a', ' ', 'i', 'w'])\n"
     ]
    }
   ],
   "source": [
    "chars = character_counts.keys()\n",
    "print(chars)"
   ]
  },
  {
   "cell_type": "markdown",
   "metadata": {},
   "source": [
    "#### Step 3"
   ]
  },
  {
   "cell_type": "code",
   "execution_count": 4,
   "metadata": {
    "collapsed": false
   },
   "outputs": [
    {
     "name": "stdout",
     "output_type": "stream",
     "text": [
      "{' ': 5, 'm': 2, 'i': 6, 'a': 4, 't': 1, 'h': 3, 'w': 7, 'unknown': 0}\n"
     ]
    }
   ],
   "source": [
    "vocab_to_idx_dict = {key:(idx+1) for idx,key in enumerate(chars)} # create vocab --> index mapping\n",
    "vocab_to_idx_dict['unknown'] = 0 # add unknown key --> 0 index\n",
    "print(vocab_to_idx_dict)"
   ]
  },
  {
   "cell_type": "markdown",
   "metadata": {},
   "source": [
    "#### Step 4"
   ]
  },
  {
   "cell_type": "code",
   "execution_count": 5,
   "metadata": {
    "collapsed": false
   },
   "outputs": [
    {
     "name": "stdout",
     "output_type": "stream",
     "text": [
      "{0: 'unknown', 1: 't', 2: 'm', 3: 'h', 4: 'a', 5: ' ', 6: 'i', 7: 'w'}\n"
     ]
    }
   ],
   "source": [
    "idx_to_vocab_dict = {val:key for key,val in vocab_to_idx_dict.items()} # create index --> vocab mapping\n",
    "print(idx_to_vocab_dict)"
   ]
  },
  {
   "cell_type": "markdown",
   "metadata": {},
   "source": [
    "#### Conclusion"
   ]
  },
  {
   "cell_type": "code",
   "execution_count": 6,
   "metadata": {
    "collapsed": false
   },
   "outputs": [
    {
     "name": "stdout",
     "output_type": "stream",
     "text": [
      "{0: 'unknown', 1: 't', 2: 'm', 3: 'h', 4: 'a', 5: ' ', 6: 'i', 7: 'w'}\n",
      "{' ': 5, 'm': 2, 'i': 6, 'a': 4, 't': 1, 'h': 3, 'w': 7, 'unknown': 0}\n"
     ]
    }
   ],
   "source": [
    "def build_vocab(characters): # build word vocabulary function\n",
    "    character_counts = collections.Counter(characters)\n",
    "    chars = character_counts.keys()\n",
    "    vocab_to_idx_dict = {key:(idx+1) for idx, key in enumerate(chars)} # create vocab --> index mapping\n",
    "    vocab_to_idx_dict['unknown']=0 # add unknown key --> 0 index\n",
    "    idx_to_vocab_dict = {val:key for key,val in vocab_to_idx_dict.items()} # create index --> vocab mapping\n",
    "    return(idx_to_vocab_dict, vocab_to_idx_dict)\n",
    "\n",
    "idx_to_vocab_dict, vocab_to_idx_dict = build_vocab( list('i am what i am') )\n",
    "print(idx_to_vocab_dict)\n",
    "print(vocab_to_idx_dict)"
   ]
  },
  {
   "cell_type": "code",
   "execution_count": null,
   "metadata": {
    "collapsed": true
   },
   "outputs": [],
   "source": []
  }
 ],
 "metadata": {
  "kernelspec": {
   "display_name": "Python 3",
   "language": "python",
   "name": "python3"
  },
  "language_info": {
   "codemirror_mode": {
    "name": "ipython",
    "version": 3
   },
   "file_extension": ".py",
   "mimetype": "text/x-python",
   "name": "python",
   "nbconvert_exporter": "python",
   "pygments_lexer": "ipython3",
   "version": "3.5.1"
  }
 },
 "nbformat": 4,
 "nbformat_minor": 0
}
