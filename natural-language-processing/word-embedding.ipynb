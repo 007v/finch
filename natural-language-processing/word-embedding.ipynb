{
 "cells": [
  {
   "cell_type": "code",
   "execution_count": 1,
   "metadata": {
    "collapsed": false
   },
   "outputs": [
    {
     "name": "stdout",
     "output_type": "stream",
     "text": [
      "['i', 'am', 'what', 'i', 'am']\n"
     ]
    }
   ],
   "source": [
    "input_words = 'i am what i am'.split()\n",
    "print(input_words)"
   ]
  },
  {
   "cell_type": "markdown",
   "metadata": {},
   "source": [
    "#### Step 1"
   ]
  },
  {
   "cell_type": "code",
   "execution_count": 2,
   "metadata": {
    "collapsed": false
   },
   "outputs": [
    {
     "name": "stdout",
     "output_type": "stream",
     "text": [
      "Counter({'i': 2, 'am': 2, 'what': 1})\n"
     ]
    }
   ],
   "source": [
    "import collections\n",
    "word_counts = collections.Counter(input_words)\n",
    "print(word_counts)"
   ]
  },
  {
   "cell_type": "markdown",
   "metadata": {},
   "source": [
    "#### Step 2"
   ]
  },
  {
   "cell_type": "code",
   "execution_count": 3,
   "metadata": {
    "collapsed": false
   },
   "outputs": [
    {
     "name": "stdout",
     "output_type": "stream",
     "text": [
      "dict_keys(['i', 'am', 'what'])\n"
     ]
    }
   ],
   "source": [
    "words = word_counts.keys()\n",
    "print(words)"
   ]
  },
  {
   "cell_type": "markdown",
   "metadata": {},
   "source": [
    "#### Step 3"
   ]
  },
  {
   "cell_type": "code",
   "execution_count": 4,
   "metadata": {
    "collapsed": false
   },
   "outputs": [
    {
     "name": "stdout",
     "output_type": "stream",
     "text": [
      "{'i': 1, 'am': 2, '_unknown': 0, 'what': 3}\n"
     ]
    }
   ],
   "source": [
    "word2idx = {key:(idx+1) for idx,key in enumerate(words)} # create word -> index mapping\n",
    "word2idx['_unknown'] = 0 # add unknown key -> 0 index\n",
    "print(word2idx)"
   ]
  },
  {
   "cell_type": "markdown",
   "metadata": {},
   "source": [
    "#### Step 4"
   ]
  },
  {
   "cell_type": "code",
   "execution_count": 5,
   "metadata": {
    "collapsed": false
   },
   "outputs": [
    {
     "name": "stdout",
     "output_type": "stream",
     "text": [
      "{0: '_unknown', 1: 'i', 2: 'am', 3: 'what'}\n"
     ]
    }
   ],
   "source": [
    "idx2word = {val:key for key,val in word2idx.items()} # create index -> word mapping\n",
    "print(idx2word)"
   ]
  },
  {
   "cell_type": "markdown",
   "metadata": {},
   "source": [
    "#### Conclusion"
   ]
  },
  {
   "cell_type": "code",
   "execution_count": 6,
   "metadata": {
    "collapsed": false
   },
   "outputs": [
    {
     "name": "stdout",
     "output_type": "stream",
     "text": [
      "{0: '_unknown', 1: 'i', 2: 'am', 3: 'what'}\n",
      "{'i': 1, 'am': 2, '_unknown': 0, 'what': 3}\n"
     ]
    }
   ],
   "source": [
    "def build_vocab(input_words): # build word vocabulary function\n",
    "    word_counts = collections.Counter(input_words)\n",
    "    words = word_counts.keys()\n",
    "    word2idx = {key:(idx+1) for idx,key in enumerate(words)} # create word -> index mapping\n",
    "    word2idx['_unknown']=0 # add unknown key -> 0 index\n",
    "    idx2word = {val:key for key,val in word2idx.items()} # create index -> word mapping\n",
    "    return(idx2word, word2idx)\n",
    "\n",
    "idx2word, word2idx = build_vocab( ('i am what i am').split() )\n",
    "print(idx2word)\n",
    "print(word2idx)"
   ]
  },
  {
   "cell_type": "code",
   "execution_count": null,
   "metadata": {
    "collapsed": true
   },
   "outputs": [],
   "source": []
  }
 ],
 "metadata": {
  "kernelspec": {
   "display_name": "Python 3",
   "language": "python",
   "name": "python3"
  },
  "language_info": {
   "codemirror_mode": {
    "name": "ipython",
    "version": 3
   },
   "file_extension": ".py",
   "mimetype": "text/x-python",
   "name": "python",
   "nbconvert_exporter": "python",
   "pygments_lexer": "ipython3",
   "version": "3.5.1"
  }
 },
 "nbformat": 4,
 "nbformat_minor": 0
}
