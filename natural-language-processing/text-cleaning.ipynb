{
 "cells": [
  {
   "cell_type": "markdown",
   "metadata": {},
   "source": [
    "#### Step 1. Remove newlines"
   ]
  },
  {
   "cell_type": "code",
   "execution_count": 1,
   "metadata": {
    "collapsed": false
   },
   "outputs": [
    {
     "data": {
      "text/plain": [
       "'one line second line '"
      ]
     },
     "execution_count": 1,
     "metadata": {},
     "output_type": "execute_result"
    }
   ],
   "source": [
    "s_text = \"one line\\nsecond line\\n\"\n",
    "s_text = s_text.replace('\\n', ' ')\n",
    "s_text"
   ]
  },
  {
   "cell_type": "markdown",
   "metadata": {},
   "source": [
    "#### Step 2. Clean text"
   ]
  },
  {
   "cell_type": "code",
   "execution_count": 3,
   "metadata": {
    "collapsed": false
   },
   "outputs": [
    {
     "name": "stdout",
     "output_type": "stream",
     "text": [
      "['!', '\"', '#', '$', '%', '&', '(', ')', '*', '+', ',', '.', '/', ':', ';', '<', '=', '>', '?', '@', '[', '\\\\', ']', '^', '_', '`', '{', '|', '}', '~']\n",
      "this is an example which needs to be cleaned\n"
     ]
    }
   ],
   "source": [
    "import string\n",
    "stop_words = [x for x in string.punctuation if x not in ['-', \"'\"]]\n",
    "print(stop_words)\n",
    "\n",
    "import re\n",
    "s_text = '  this is  !  an example,   which . needs to be  >  cleaned'\n",
    "s_text = re.sub(r'[{}]'.format(''.join(stop_words)), ' ', s_text)       # remove punctuation\n",
    "s_text = re.sub('\\s+', ' ', s_text ).strip().lower()                    # remove extra white space, lower all characters\n",
    "print(s_text)"
   ]
  },
  {
   "cell_type": "code",
   "execution_count": null,
   "metadata": {
    "collapsed": true
   },
   "outputs": [],
   "source": []
  }
 ],
 "metadata": {
  "kernelspec": {
   "display_name": "Python 3",
   "language": "python",
   "name": "python3"
  },
  "language_info": {
   "codemirror_mode": {
    "name": "ipython",
    "version": 3
   },
   "file_extension": ".py",
   "mimetype": "text/x-python",
   "name": "python",
   "nbconvert_exporter": "python",
   "pygments_lexer": "ipython3",
   "version": "3.5.1"
  }
 },
 "nbformat": 4,
 "nbformat_minor": 0
}
