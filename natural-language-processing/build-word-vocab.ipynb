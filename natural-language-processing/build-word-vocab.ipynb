{
 "cells": [
  {
   "cell_type": "code",
   "execution_count": 1,
   "metadata": {
    "collapsed": false
   },
   "outputs": [
    {
     "name": "stdout",
     "output_type": "stream",
     "text": [
      "['i', ' ', 'a', 'm', ' ', 'w', 'h', 'a', 't', ' ', 'i', ' ', 'a', 'm']\n"
     ]
    }
   ],
   "source": [
    "characters=list('i am what i am')\n",
    "print(characters)"
   ]
  },
  {
   "cell_type": "code",
   "execution_count": 2,
   "metadata": {
    "collapsed": false
   },
   "outputs": [
    {
     "name": "stdout",
     "output_type": "stream",
     "text": [
      "Counter({' ': 4, 'a': 3, 'i': 2, 'm': 2, 'w': 1, 't': 1, 'h': 1})\n"
     ]
    }
   ],
   "source": [
    "import collections\n",
    "character_counts = collections.Counter(characters)\n",
    "print(character_counts)"
   ]
  },
  {
   "cell_type": "code",
   "execution_count": 3,
   "metadata": {
    "collapsed": false
   },
   "outputs": [
    {
     "name": "stdout",
     "output_type": "stream",
     "text": [
      "dict_keys(['i', ' ', 'a', 'm', 'w', 't', 'h'])\n"
     ]
    }
   ],
   "source": [
    "chars = character_counts.keys()\n",
    "print(chars)"
   ]
  },
  {
   "cell_type": "code",
   "execution_count": 4,
   "metadata": {
    "collapsed": false
   },
   "outputs": [
    {
     "name": "stdout",
     "output_type": "stream",
     "text": [
      "{'i': 1, ' ': 2, 'h': 7, 'unknown': 0, 'a': 3, 'm': 4, 'w': 5, 't': 6}\n"
     ]
    }
   ],
   "source": [
    "vocab_to_idx_dict = {key:(idx+1) for idx,key in enumerate(chars)} # create vocab --> index mapping\n",
    "vocab_to_idx_dict['unknown'] = 0 # add unknown key --> 0 index\n",
    "print(vocab_to_idx_dict)"
   ]
  },
  {
   "cell_type": "code",
   "execution_count": 5,
   "metadata": {
    "collapsed": false
   },
   "outputs": [
    {
     "name": "stdout",
     "output_type": "stream",
     "text": [
      "{0: 'unknown', 1: 'i', 2: ' ', 3: 'a', 4: 'm', 5: 'w', 6: 't', 7: 'h'}\n"
     ]
    }
   ],
   "source": [
    "idx_to_vocab_dict = {val:key for key,val in vocab_to_idx_dict.items()} # create index --> vocab mapping\n",
    "print(idx_to_vocab_dict)"
   ]
  },
  {
   "cell_type": "code",
   "execution_count": 6,
   "metadata": {
    "collapsed": false
   },
   "outputs": [
    {
     "name": "stdout",
     "output_type": "stream",
     "text": [
      "{0: 'unknown', 1: 'i', 2: ' ', 3: 'a', 4: 'm', 5: 'w', 6: 't', 7: 'h'}\n",
      "{'i': 1, ' ': 2, 'h': 7, 'unknown': 0, 'a': 3, 'm': 4, 'w': 5, 't': 6}\n"
     ]
    }
   ],
   "source": [
    "def build_vocab(characters): # build word vocabulary function\n",
    "    character_counts = collections.Counter(characters)\n",
    "    chars = character_counts.keys()\n",
    "    vocab_to_idx_dict = {key:(idx+1) for idx, key in enumerate(chars)} # create vocab --> index mapping\n",
    "    vocab_to_idx_dict['unknown']=0 # add unknown key --> 0 index\n",
    "    idx_to_vocab_dict = {val:key for key,val in vocab_to_idx_dict.items()} # create index --> vocab mapping\n",
    "    return(idx_to_vocab_dict, vocab_to_idx_dict)\n",
    "\n",
    "idx_to_vocab_dict, vocab_to_idx_dict = build_vocab( list('i am what i am') )\n",
    "print(idx_to_vocab_dict)\n",
    "print(vocab_to_idx_dict)"
   ]
  },
  {
   "cell_type": "code",
   "execution_count": null,
   "metadata": {
    "collapsed": true
   },
   "outputs": [],
   "source": []
  }
 ],
 "metadata": {
  "kernelspec": {
   "display_name": "Python 3",
   "language": "python",
   "name": "python3"
  },
  "language_info": {
   "codemirror_mode": {
    "name": "ipython",
    "version": 3
   },
   "file_extension": ".py",
   "mimetype": "text/x-python",
   "name": "python",
   "nbconvert_exporter": "python",
   "pygments_lexer": "ipython3",
   "version": "3.5.1"
  }
 },
 "nbformat": 4,
 "nbformat_minor": 0
}
