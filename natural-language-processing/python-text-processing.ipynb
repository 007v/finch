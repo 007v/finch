{
 "cells": [
  {
   "cell_type": "markdown",
   "metadata": {},
   "source": [
    "#### Step 1. Remove newlines"
   ]
  },
  {
   "cell_type": "code",
   "execution_count": 1,
   "metadata": {
    "collapsed": false
   },
   "outputs": [
    {
     "data": {
      "text/plain": [
       "'one line second line'"
      ]
     },
     "execution_count": 1,
     "metadata": {},
     "output_type": "execute_result"
    }
   ],
   "source": [
    "s_text = \"one line\\n second line\\n\"\n",
    "s_text = s_text.replace('\\r\\n', '')\n",
    "s_text = s_text.replace('\\n', '')\n",
    "s_text"
   ]
  },
  {
   "cell_type": "markdown",
   "metadata": {},
   "source": [
    "#### Step 2. Clean text"
   ]
  },
  {
   "cell_type": "code",
   "execution_count": 2,
   "metadata": {
    "collapsed": false
   },
   "outputs": [
    {
     "name": "stdout",
     "output_type": "stream",
     "text": [
      "!\"#$%&()*+,./:;<=>?@[\\]^_`{|}~\n",
      "this is an example which needs to be cleaned\n"
     ]
    }
   ],
   "source": [
    "# declare punctuation to remove, everything except hyphens and apostrophes\n",
    "import string\n",
    "stop_words = string.punctuation\n",
    "stop_words = ''.join([x for x in stop_words if x not in ['-', \"'\"]])\n",
    "print(stop_words)\n",
    "\n",
    "import re\n",
    "s_text = '  this is   an example,   which . needs to be   cleaned'\n",
    "s_text = re.sub(r'[{}]'.format(stop_words), ' ', s_text) # remove punctuation\n",
    "s_text = re.sub('\\s+', ' ', s_text ).strip().lower() # remove extra white space, lower all characters\n",
    "print(s_text)"
   ]
  },
  {
   "cell_type": "code",
   "execution_count": null,
   "metadata": {
    "collapsed": true
   },
   "outputs": [],
   "source": []
  }
 ],
 "metadata": {
  "kernelspec": {
   "display_name": "Python 3",
   "language": "python",
   "name": "python3"
  },
  "language_info": {
   "codemirror_mode": {
    "name": "ipython",
    "version": 3
   },
   "file_extension": ".py",
   "mimetype": "text/x-python",
   "name": "python",
   "nbconvert_exporter": "python",
   "pygments_lexer": "ipython3",
   "version": "3.5.1"
  }
 },
 "nbformat": 4,
 "nbformat_minor": 0
}
