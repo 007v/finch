{
 "cells": [
  {
   "cell_type": "markdown",
   "metadata": {},
   "source": [
    "* batch_size * seq_len = all words in one batch\n",
    "* vocab_size = the number of unique words in all_words"
   ]
  },
  {
   "cell_type": "code",
   "execution_count": 1,
   "metadata": {
    "collapsed": false
   },
   "outputs": [
    {
     "name": "stdout",
     "output_type": "stream",
     "text": [
      "(10, 5, 128)\n"
     ]
    }
   ],
   "source": [
    "import tensorflow as tf\n",
    "import numpy as np\n",
    "\n",
    "vocab_size = 60\n",
    "rnn_size = 128\n",
    "batch_size = 10\n",
    "seq_len = 5\n",
    "\n",
    "X = tf.placeholder(tf.int32, [batch_size, seq_len])\n",
    "embedding_mat = tf.random_normal([vocab_size, rnn_size])\n",
    "embedding_output = tf.nn.embedding_lookup(embedding_mat, X)\n",
    "\n",
    "sess = tf.Session()\n",
    "output = sess.run(embedding_output, feed_dict={X: np.arange(batch_size*seq_len).reshape(batch_size, seq_len)})\n",
    "print(output.shape)"
   ]
  },
  {
   "cell_type": "code",
   "execution_count": null,
   "metadata": {
    "collapsed": true
   },
   "outputs": [],
   "source": []
  }
 ],
 "metadata": {
  "kernelspec": {
   "display_name": "Python 3",
   "language": "python",
   "name": "python3"
  },
  "language_info": {
   "codemirror_mode": {
    "name": "ipython",
    "version": 3
   },
   "file_extension": ".py",
   "mimetype": "text/x-python",
   "name": "python",
   "nbconvert_exporter": "python",
   "pygments_lexer": "ipython3",
   "version": "3.5.1"
  }
 },
 "nbformat": 4,
 "nbformat_minor": 0
}
