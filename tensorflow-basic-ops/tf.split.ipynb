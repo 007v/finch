{
 "cells": [
  {
   "cell_type": "markdown",
   "metadata": {},
   "source": [
    "Split tensor into a list of sub-tensors"
   ]
  },
  {
   "cell_type": "code",
   "execution_count": 1,
   "metadata": {
    "collapsed": false
   },
   "outputs": [
    {
     "name": "stdout",
     "output_type": "stream",
     "text": [
      "30 (10, 1, 20)\n"
     ]
    }
   ],
   "source": [
    "import tensorflow as tf\n",
    "\n",
    "batch_size = 10\n",
    "n_step = 30\n",
    "n_in = 20\n",
    "\n",
    "X = tf.random_normal([batch_size, n_step, n_in])\n",
    "output = tf.split(X, n_step, axis=1)\n",
    "\n",
    "sess = tf.Session()\n",
    "out = sess.run(output)\n",
    "print(len(out), out[0].shape)"
   ]
  },
  {
   "cell_type": "code",
   "execution_count": 2,
   "metadata": {
    "collapsed": false
   },
   "outputs": [
    {
     "name": "stdout",
     "output_type": "stream",
     "text": [
      "30 (1, 10, 20)\n"
     ]
    }
   ],
   "source": [
    "import tensorflow as tf\n",
    "\n",
    "batch_size = 10\n",
    "n_step = 30\n",
    "n_in = 20\n",
    "\n",
    "X = tf.random_normal([batch_size, n_step, n_in])\n",
    "output = tf.transpose(X, [1, 0, 2])\n",
    "output = tf.split(output, n_step, axis=0)\n",
    "\n",
    "sess = tf.Session()\n",
    "out = sess.run(output)\n",
    "print(len(out), out[0].shape)"
   ]
  },
  {
   "cell_type": "code",
   "execution_count": null,
   "metadata": {
    "collapsed": true
   },
   "outputs": [],
   "source": []
  }
 ],
 "metadata": {
  "kernelspec": {
   "display_name": "Python 3",
   "language": "python",
   "name": "python3"
  },
  "language_info": {
   "codemirror_mode": {
    "name": "ipython",
    "version": 3
   },
   "file_extension": ".py",
   "mimetype": "text/x-python",
   "name": "python",
   "nbconvert_exporter": "python",
   "pygments_lexer": "ipython3",
   "version": "3.5.1"
  }
 },
 "nbformat": 4,
 "nbformat_minor": 0
}
