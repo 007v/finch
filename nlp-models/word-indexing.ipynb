{
 "cells": [
  {
   "cell_type": "markdown",
   "metadata": {},
   "source": [
    "## Counter-based Approach"
   ]
  },
  {
   "cell_type": "code",
   "execution_count": 1,
   "metadata": {
    "collapsed": false
   },
   "outputs": [
    {
     "name": "stdout",
     "output_type": "stream",
     "text": [
      "['i', 'am', 'what', 'i', 'am']\n"
     ]
    }
   ],
   "source": [
    "words = 'i am what i am'.split()\n",
    "print(words)"
   ]
  },
  {
   "cell_type": "markdown",
   "metadata": {},
   "source": [
    "#### Step 1"
   ]
  },
  {
   "cell_type": "code",
   "execution_count": 2,
   "metadata": {
    "collapsed": false
   },
   "outputs": [
    {
     "name": "stdout",
     "output_type": "stream",
     "text": [
      "Counter({'am': 2, 'i': 2, 'what': 1})\n",
      "{'am': 2, 'i': 2}\n"
     ]
    }
   ],
   "source": [
    "import collections\n",
    "word_freqs = collections.Counter(words)\n",
    "print(word_freqs)\n",
    "\n",
    "min_freq = 1\n",
    "_word_freqs = {word:freq for word,freq in word_freqs.items() if freq > min_freq}\n",
    "print(_word_freqs)"
   ]
  },
  {
   "cell_type": "markdown",
   "metadata": {},
   "source": [
    "#### Step 2"
   ]
  },
  {
   "cell_type": "code",
   "execution_count": 3,
   "metadata": {
    "collapsed": false
   },
   "outputs": [
    {
     "name": "stdout",
     "output_type": "stream",
     "text": [
      "dict_keys(['am', 'i', 'what'])\n"
     ]
    }
   ],
   "source": [
    "words = word_freqs.keys()\n",
    "print(words)"
   ]
  },
  {
   "cell_type": "markdown",
   "metadata": {},
   "source": [
    "#### Step 3"
   ]
  },
  {
   "cell_type": "code",
   "execution_count": 4,
   "metadata": {
    "collapsed": false
   },
   "outputs": [
    {
     "name": "stdout",
     "output_type": "stream",
     "text": [
      "{'am': 1, 'i': 2, '_unknown': 0, 'what': 3}\n"
     ]
    }
   ],
   "source": [
    "word2idx = {word:(idx+1) for idx,word in enumerate(words)} # create word -> index mapping\n",
    "word2idx['_unknown'] = 0 # add unknown key -> 0 index\n",
    "print(word2idx)"
   ]
  },
  {
   "cell_type": "markdown",
   "metadata": {},
   "source": [
    "#### Step 4"
   ]
  },
  {
   "cell_type": "code",
   "execution_count": 5,
   "metadata": {
    "collapsed": false
   },
   "outputs": [
    {
     "name": "stdout",
     "output_type": "stream",
     "text": [
      "{0: '_unknown', 1: 'am', 2: 'i', 3: 'what'}\n"
     ]
    }
   ],
   "source": [
    "idx2word = {idx:word for word,idx in word2idx.items()} # create index -> word mapping\n",
    "print(idx2word)"
   ]
  },
  {
   "cell_type": "markdown",
   "metadata": {},
   "source": [
    "## Quicker Way"
   ]
  },
  {
   "cell_type": "code",
   "execution_count": 1,
   "metadata": {
    "collapsed": false
   },
   "outputs": [
    {
     "name": "stdout",
     "output_type": "stream",
     "text": [
      "['w', 'm', 'i', ' ', 't', 'h', 'a']\n",
      "{' ': 3, 'w': 0, 'm': 1, 't': 4, 'h': 5, 'a': 6, 'i': 2}\n"
     ]
    }
   ],
   "source": [
    "text = 'i am what i am'\n",
    "chars = list(set(text))\n",
    "print(chars)\n",
    "\n",
    "char2idx = {c: i for i, c in enumerate(chars)}\n",
    "idx2char = {i: c for i, c in enumerate(chars)}\n",
    "print(char2idx)"
   ]
  },
  {
   "cell_type": "code",
   "execution_count": null,
   "metadata": {
    "collapsed": true
   },
   "outputs": [],
   "source": []
  }
 ],
 "metadata": {
  "kernelspec": {
   "display_name": "Python 3",
   "language": "python",
   "name": "python3"
  },
  "language_info": {
   "codemirror_mode": {
    "name": "ipython",
    "version": 3
   },
   "file_extension": ".py",
   "mimetype": "text/x-python",
   "name": "python",
   "nbconvert_exporter": "python",
   "pygments_lexer": "ipython3",
   "version": "3.5.1"
  }
 },
 "nbformat": 4,
 "nbformat_minor": 0
}
